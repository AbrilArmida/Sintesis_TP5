{
  "nbformat": 4,
  "nbformat_minor": 0,
  "metadata": {
    "colab": {
      "provenance": [],
      "include_colab_link": true
    },
    "kernelspec": {
      "name": "python3",
      "display_name": "Python 3"
    },
    "language_info": {
      "name": "python"
    }
  },
  "cells": [
    {
      "cell_type": "markdown",
      "metadata": {
        "id": "view-in-github",
        "colab_type": "text"
      },
      "source": [
        "<a href=\"https://colab.research.google.com/github/AbrilArmida/Sintesis_TP5/blob/main/Capacitores_Filtro_Pasa_Bajo.ipynb\" target=\"_parent\"><img src=\"https://colab.research.google.com/assets/colab-badge.svg\" alt=\"Open In Colab\"/></a>"
      ]
    },
    {
      "cell_type": "code",
      "execution_count": null,
      "metadata": {
        "id": "ounwiNHzTIXD"
      },
      "outputs": [],
      "source": [
        "import numpy as np\n",
        "import matplotlib.pyplot as plt\n",
        "import scipy.stats as st"
      ]
    },
    {
      "cell_type": "code",
      "source": [
        "C = 174\n",
        "Cmin = C*0.9\n",
        "Cmax = C*1.1\n",
        "\n",
        "x = np.random.uniform(Cmin, Cmax, 100) # Genero la dist. uniforme de valores de resistencias\n",
        "media = np.mean(x)  # Calculo la media\n",
        "sigma = np.std(x) # Calculo el desvío\n",
        "\n",
        "normal = st.norm(media, sigma)  # Genero una distribución normal con la media y la varianza calculadas\n",
        "\n",
        "print(sigma)\n",
        "print(media)"
      ],
      "metadata": {
        "id": "Z_m88qJXWcAa",
        "colab": {
          "base_uri": "https://localhost:8080/"
        },
        "outputId": "7349a326-4262-41a1-81c2-578cf29b9c98"
      },
      "execution_count": null,
      "outputs": [
        {
          "output_type": "stream",
          "name": "stdout",
          "text": [
            "10.261808395601408\n",
            "173.53632936545083\n"
          ]
        }
      ]
    },
    {
      "cell_type": "code",
      "source": [
        "x.sort()  # Ordeno el arreglo de valores aleatorios de R\n",
        "\n",
        "Y = normal.pdf(x) # Genero un arreglo donde calculo la pdf para cada valor de R\n",
        "\n",
        "\n",
        "# Gráficos\n",
        "plt.plot(x,Y)\n",
        "plt.grid()\n",
        "plt.title(\"Distribución normal de C Pasa Bajo\")\n",
        "plt.xlabel(\"[nF]\")\n",
        "plt.show()\n",
        "\n",
        "np.mean(x)"
      ],
      "metadata": {
        "colab": {
          "base_uri": "https://localhost:8080/",
          "height": 313
        },
        "id": "8GUWXHeVEcBD",
        "outputId": "e59496a9-3963-4c8e-d764-835d6edec7b1"
      },
      "execution_count": null,
      "outputs": [
        {
          "output_type": "display_data",
          "data": {
            "text/plain": [
              "<Figure size 432x288 with 1 Axes>"
            ],
            "image/png": "[encoded data removed]"
          },
          "metadata": {
            "needs_background": "light"
          }
        },
        {
          "output_type": "execute_result",
          "data": {
            "text/plain": [
              "173.53632936545088"
            ]
          },
          "metadata": {},
          "execution_count": 7
        }
      ]
    }
  ]
}